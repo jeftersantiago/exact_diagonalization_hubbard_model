{
 "cells": [
  {
   "cell_type": "markdown",
   "metadata": {},
   "source": [
    "https://arxiv.org/abs/0807.4878v1"
   ]
  },
  {
   "cell_type": "code",
   "execution_count": 2,
   "metadata": {},
   "outputs": [],
   "source": [
    "from quspin.operators import hamiltonian \n",
    "from quspin.basis import spinful_fermion_basis_1d\n",
    "\n",
    "import numpy as np\n"
   ]
  },
  {
   "cell_type": "code",
   "execution_count": 3,
   "metadata": {},
   "outputs": [
    {
     "name": "stdout",
     "output_type": "stream",
     "text": [
      "4\n",
      "25\n",
      "204\n"
     ]
    }
   ],
   "source": [
    "L = 3\n",
    "s = 204\n",
    "\n",
    "n_UP = np.mod(s, 2**L)\n",
    "n_DOWN = int(s / (2**L))\n",
    "\n",
    "print(n_UP)\n",
    "print(n_DOWN)\n",
    "\n",
    "print(2**L * n_DOWN + n_UP)"
   ]
  }
 ],
 "metadata": {
  "kernelspec": {
   "display_name": "research_ENV",
   "language": "python",
   "name": "research_env"
  },
  "language_info": {
   "codemirror_mode": {
    "name": "ipython",
    "version": 3
   },
   "file_extension": ".py",
   "mimetype": "text/x-python",
   "name": "python",
   "nbconvert_exporter": "python",
   "pygments_lexer": "ipython3",
   "version": "3.7.12"
  }
 },
 "nbformat": 4,
 "nbformat_minor": 2
}
